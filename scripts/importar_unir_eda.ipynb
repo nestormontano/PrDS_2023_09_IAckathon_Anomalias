{
  "nbformat": 4,
  "nbformat_minor": 0,
  "metadata": {
    "colab": {
      "provenance": [],
      "authorship_tag": "ABX9TyM6F7Sz4VTTW5tkTQVdUYih",
      "include_colab_link": true
    },
    "kernelspec": {
      "name": "python3",
      "display_name": "Python 3"
    },
    "language_info": {
      "name": "python"
    }
  },
  "cells": [
    {
      "cell_type": "markdown",
      "metadata": {
        "id": "view-in-github",
        "colab_type": "text"
      },
      "source": [
        "<a href=\"https://colab.research.google.com/github/nestormontano/PrDS_2023_09_IAckathon_Anomalias/blob/main/scripts/importar_unir_eda.ipynb\" target=\"_parent\"><img src=\"https://colab.research.google.com/assets/colab-badge.svg\" alt=\"Open In Colab\"/></a>"
      ]
    },
    {
      "cell_type": "code",
      "execution_count": 2,
      "metadata": {
        "colab": {
          "base_uri": "https://localhost:8080/"
        },
        "id": "WoSxA1chteZ2",
        "outputId": "0a4e7cdb-7d21-4e3f-db2b-189e41ca3628"
      },
      "outputs": [
        {
          "output_type": "stream",
          "name": "stdout",
          "text": [
            "/usr/local/lib/python3.10/dist-packages/gdown/cli.py:121: FutureWarning: Option `--id` was deprecated in version 4.3.1 and will be removed in 5.0. You don't need to pass it anymore to use a file ID.\n",
            "  warnings.warn(\n",
            "Downloading...\n",
            "From: https://drive.google.com/uc?id=16xhN600OTMNlhNuXPQFCsDxbhdnyliGS\n",
            "To: /content/releases_2022.xlsx\n",
            "100% 62.6M/62.6M [00:00<00:00, 64.1MB/s]\n"
          ]
        }
      ],
      "source": [
        "#https://docs.google.com/spreadsheets/d/16xhN600OTMNlhNuXPQFCsDxbhdnyliGS\n",
        "!gdown --id 16xhN600OTMNlhNuXPQFCsDxbhdnyliGS"
      ]
    },
    {
      "cell_type": "code",
      "source": [
        "import pandas as pd\n",
        "import numpy as np"
      ],
      "metadata": {
        "id": "ft2q_xzotoD3"
      },
      "execution_count": 3,
      "outputs": []
    },
    {
      "cell_type": "code",
      "source": [
        "releases = pd.read_excel(\"/content/releases_2022.xlsx\", sheet_name= 'Releases' )"
      ],
      "metadata": {
        "id": "MDj2LRT8t928"
      },
      "execution_count": 4,
      "outputs": []
    },
    {
      "cell_type": "code",
      "source": [
        "planning = pd.read_excel(\"/content/releases_2022.xlsx\", sheet_name= 'Planning' )"
      ],
      "metadata": {
        "id": "_eoBvNb9uVU3"
      },
      "execution_count": 5,
      "outputs": []
    },
    {
      "cell_type": "code",
      "source": [
        "tender = pd.read_excel(\"/content/releases_2022.xlsx\", sheet_name= 'Tender' )"
      ],
      "metadata": {
        "id": "yLgoQI8NuZrX"
      },
      "execution_count": 6,
      "outputs": []
    },
    {
      "cell_type": "code",
      "source": [
        "awards = pd.read_excel(\"/content/releases_2022.xlsx\", sheet_name= 'Awards' )"
      ],
      "metadata": {
        "id": "wMTKZRc_udH0"
      },
      "execution_count": 7,
      "outputs": []
    },
    {
      "cell_type": "code",
      "source": [
        "award_supp = pd.read_excel(\"/content/releases_2022.xlsx\", sheet_name= 'AwardSuppliers' )"
      ],
      "metadata": {
        "id": "WfVzcU5Zugtl"
      },
      "execution_count": 8,
      "outputs": []
    },
    {
      "cell_type": "code",
      "source": [
        "contracts = pd.read_excel(\"/content/releases_2022.xlsx\", sheet_name= 'Contracts' )"
      ],
      "metadata": {
        "id": "ZzrLm5u3umfm"
      },
      "execution_count": 9,
      "outputs": []
    },
    {
      "cell_type": "code",
      "source": [],
      "metadata": {
        "id": "DklE3n2muqNl"
      },
      "execution_count": null,
      "outputs": []
    }
  ]
}